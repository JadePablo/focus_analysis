{
  "nbformat": 4,
  "nbformat_minor": 0,
  "metadata": {
    "colab": {
      "provenance": []
    },
    "kernelspec": {
      "name": "python3",
      "display_name": "Python 3"
    },
    "language_info": {
      "name": "python"
    }
  },
  "cells": [
    {
      "cell_type": "markdown",
      "source": [
        "#Preface\n",
        "\n",
        "<b>Objective:</b>\n",
        "\n",
        "Assessing Focus and Comprehension performance in Undistracted and Distracted Reading\n",
        "\n",
        "<b>Inspiration:</b>\n",
        "\n",
        "Observing the common practice on TikTok where creators use gameplay videos to maintain user engagement, I wondered if a similar technique could enhance my reading experience. The goal is to determine if incorporating distractions while reading reduces the need for backtracking and improves overall comprehension."
      ],
      "metadata": {
        "id": "-bU-Pkd5GaXm"
      }
    },
    {
      "cell_type": "markdown",
      "source": [
        "#Data Collection\n",
        "\n",
        "During the data collection phase, I conducted two trials: one without distractions and one with distractions. Here's a brief overview of the setups:\n",
        "\n",
        "1. Trial Structure:\n",
        "\n",
        "  * Each trial consisted of reading the book \"Python for Data Science Handbook\" for one hour.\n",
        "  * I took breaks whenever I felt mentally fatigued, indicated by frequently checking the time or finding the need to re-read for comprehension.\n",
        "\n",
        "2. Data Collection Methods:\n",
        "\n",
        "  * I utilized the OpenCV library in a Python script to record the instances when I was actively reading and the corresponding timestamps.\n",
        "  * Additionally, I manually recorded data by taking multiple-choice quizzes on the sections I read in each trial, noting down my scores, and keeping track of the number of pages read.\n",
        "\n",
        "This combined approach allowed me to gather comprehensive data on both my reading behavior and quiz performance."
      ],
      "metadata": {
        "id": "MM9FOETRHoVz"
      }
    },
    {
      "cell_type": "markdown",
      "source": [
        "#Cleaning Data: Undistracted Reading \n"
      ],
      "metadata": {
        "id": "xfYl3rT_-tip"
      }
    },
    {
      "cell_type": "code",
      "source": [
        "import pandas as pd\n",
        "\n",
        "#i naively collected the data, things to fix specified below are also applied to the distracted reading data\n",
        "undistracted_results = pd.read_csv('/content/friedBrain_df.csv')\n",
        "print (undistracted_results.head())"
      ],
      "metadata": {
        "colab": {
          "base_uri": "https://localhost:8080/"
        },
        "id": "QI_oEJ6d--b9",
        "outputId": "6ce41d74-56d2-4c2c-9bf0-4df18e66556a"
      },
      "execution_count": null,
      "outputs": [
        {
          "output_type": "stream",
          "name": "stdout",
          "text": [
            "   face_detected  eyes_detected   fd_time  ed_time\n",
            "0              1            NaN  5.950251      NaN\n",
            "1              0            NaN  5.950251      NaN\n",
            "2              1            NaN  6.044906      NaN\n",
            "3              0            NaN  6.044906      NaN\n",
            "4              1            NaN  6.087430      NaN\n"
          ]
        }
      ]
    },
    {
      "cell_type": "markdown",
      "source": [
        "Things to fix:\n",
        "- remove the unnecessary columns\n",
        "- change fd_time to something more representative\n",
        "- remove undetected face rows\n"
      ],
      "metadata": {
        "id": "qP6GviUECxIg"
      }
    },
    {
      "cell_type": "code",
      "source": [
        "#removing unnecessary / unfilled columns\n",
        "undistracted_results = undistracted_results.drop(columns=['eyes_detected','ed_time'])\n",
        "\n",
        "#changing fd_time to a more representative name: \n",
        "undistracted_results = undistracted_results.rename(columns={'fd_time' : 'detection_time'})\n",
        "\n",
        "print (undistracted_results.head())\n",
        "print(len(undistracted_results))"
      ],
      "metadata": {
        "colab": {
          "base_uri": "https://localhost:8080/"
        },
        "id": "rCOov545QErg",
        "outputId": "53db8c18-561f-4b90-a5e6-c93d99b8d92d"
      },
      "execution_count": null,
      "outputs": [
        {
          "output_type": "stream",
          "name": "stdout",
          "text": [
            "   face_detected  detection_time\n",
            "0              1        5.950251\n",
            "1              0        5.950251\n",
            "2              1        6.044906\n",
            "3              0        6.044906\n",
            "4              1        6.087430\n",
            "35859\n"
          ]
        }
      ]
    },
    {
      "cell_type": "code",
      "source": [
        "#remove rows with faulty 0's\n",
        "#i.e rows with fd = 0 and the rows before and after have fd = 1\n",
        "\n",
        "zeroes_mask = (undistracted_results['face_detected'] == 0) & (undistracted_results['face_detected'].shift(1) == 1) & (undistracted_results['face_detected'].shift(-1) == 1)\n",
        "undistracted_results = undistracted_results[~zeroes_mask]\n",
        "\n",
        "pd.set_option('display.max_rows', None)\n",
        "\n",
        "print(undistracted_results.head())\n",
        "print(len(undistracted_results))"
      ],
      "metadata": {
        "colab": {
          "base_uri": "https://localhost:8080/"
        },
        "id": "R2bU5TCnCuz8",
        "outputId": "1f70dcd9-3a27-4f1d-8d39-9fbd266ecd48"
      },
      "execution_count": null,
      "outputs": [
        {
          "output_type": "stream",
          "name": "stdout",
          "text": [
            "   face_detected  detection_time\n",
            "0              1        5.950251\n",
            "2              1        6.044906\n",
            "4              1        6.087430\n",
            "6              1        6.131464\n",
            "8              1        6.162466\n",
            "25039\n"
          ]
        }
      ]
    },
    {
      "cell_type": "code",
      "source": [
        "#remove false undetected rows. Like if I fidgeted, drank water etc.\n",
        "\n",
        "# Create a new column 'group' to identify 'islands' of 0's and 1's\n",
        "undistracted_results['group'] = (undistracted_results['face_detected'] != undistracted_results['face_detected'].shift()).cumsum()\n",
        "\n",
        "# Group the dataframe by 'group' column\n",
        "groups = undistracted_results.groupby('group')\n",
        "\n",
        "# Initialize an empty list to store the indices of the rows to be removed\n",
        "rows_to_remove = []\n",
        "\n",
        "# Iterate over the groups and identify the groups with <= 50 rows and face_detected = 0\n",
        "for group_name, group in groups:\n",
        "    if len(group) <= 50 and group['face_detected'].iloc[0] == 0 and group['face_detected'].iloc[-1] == 0:\n",
        "        rows_to_remove.extend(group.index)\n",
        "\n",
        "# Remove the rows from the dataframe\n",
        "undistracted_results = undistracted_results.drop(rows_to_remove)\n",
        "\n",
        "# Remove the 'group' column\n",
        "undistracted_results = undistracted_results.drop('group', axis=1)"
      ],
      "metadata": {
        "id": "FIQbSiEwXeu2"
      },
      "execution_count": null,
      "outputs": []
    },
    {
      "cell_type": "code",
      "source": [
        "#compare new size to the old size, should be smaller.\n",
        "print(len(undistracted_results))"
      ],
      "metadata": {
        "colab": {
          "base_uri": "https://localhost:8080/"
        },
        "id": "MJQSNXeeXl9Q",
        "outputId": "2f37245d-eae2-4ef1-83a1-0ab4009d74e4"
      },
      "execution_count": null,
      "outputs": [
        {
          "output_type": "stream",
          "name": "stdout",
          "text": [
            "20152\n"
          ]
        }
      ]
    },
    {
      "cell_type": "markdown",
      "source": [
        "#Cleaning Data: Distracted Reading"
      ],
      "metadata": {
        "id": "dnZJ20TpB5Gv"
      }
    },
    {
      "cell_type": "code",
      "source": [
        "import pandas as pd\n",
        "\n",
        "distracted_results = pd.read_csv('/content/distractedBrain_df.csv')\n",
        "print(distracted_results.head())"
      ],
      "metadata": {
        "colab": {
          "base_uri": "https://localhost:8080/"
        },
        "id": "y6PGkir7B8Dt",
        "outputId": "96eb1b05-1978-44db-d32e-074f2fd8d9a2"
      },
      "execution_count": null,
      "outputs": [
        {
          "output_type": "stream",
          "name": "stdout",
          "text": [
            "   face_detected  eyes_detected   fd_time  ed_time\n",
            "0              0            NaN  6.564063      NaN\n",
            "1              1            NaN  6.672797      NaN\n",
            "2              0            NaN  6.672797      NaN\n",
            "3              1            NaN  6.712796      NaN\n",
            "4              0            NaN  6.712796      NaN\n"
          ]
        }
      ]
    },
    {
      "cell_type": "code",
      "source": [
        "#removing unnecessary / unfilled columns\n",
        "distracted_results = distracted_results.drop(columns=['eyes_detected','ed_time'])\n",
        "\n",
        "#changing fd_time to a more representative name: \n",
        "distracted_results = distracted_results.rename(columns={'fd_time' : 'detection_time'})\n",
        "\n",
        "print (distracted_results.head())\n",
        "print (len(distracted_results))"
      ],
      "metadata": {
        "colab": {
          "base_uri": "https://localhost:8080/"
        },
        "id": "q-1Tc276kogl",
        "outputId": "c082c1e9-c186-47a8-e701-97c269dd6f74"
      },
      "execution_count": null,
      "outputs": [
        {
          "output_type": "stream",
          "name": "stdout",
          "text": [
            "   face_detected  detection_time\n",
            "0              0        6.564063\n",
            "1              1        6.672797\n",
            "2              0        6.672797\n",
            "3              1        6.712796\n",
            "4              0        6.712796\n",
            "36201\n"
          ]
        }
      ]
    },
    {
      "cell_type": "code",
      "source": [
        "zeroes_mask = (distracted_results['face_detected'] == 0) & (distracted_results['face_detected'].shift(1) == 1) & (distracted_results['face_detected'].shift(-1) == 1)\n",
        "\n",
        "distracted_results = distracted_results[~zeroes_mask]\n",
        "\n",
        "pd.set_option('display.max_rows', None)\n",
        "\n",
        "print(distracted_results.head())\n",
        "print(len(distracted_results))"
      ],
      "metadata": {
        "colab": {
          "base_uri": "https://localhost:8080/"
        },
        "id": "42J-mqnSF-Ir",
        "outputId": "49311d1e-7b52-439f-b81b-5ac72db75c2b"
      },
      "execution_count": null,
      "outputs": [
        {
          "output_type": "stream",
          "name": "stdout",
          "text": [
            "   face_detected  detection_time\n",
            "0              0        6.564063\n",
            "1              1        6.672797\n",
            "3              1        6.712796\n",
            "5              1        6.750329\n",
            "7              1        6.787318\n",
            "20166\n"
          ]
        }
      ]
    },
    {
      "cell_type": "code",
      "source": [
        "#remove false undetected rows. Like if I fidgeted, drank water etc.\n",
        "\n",
        "# WLOG, identify the islands of 0's and 1's and number them just like before, just done in a diff. df\n",
        "distracted_results['group'] = (distracted_results['face_detected'] != distracted_results['face_detected'].shift()).cumsum()\n",
        "\n",
        "# Group the dataframe by 'group' column\n",
        "groups = distracted_results.groupby('group')\n",
        "\n",
        "# Initialize an empty list to store the indices of the rows to be removed\n",
        "rows_to_remove = []\n",
        "\n",
        "# Iterate over the groups and identify the groups with <= 50 rows and face_detected = 0\n",
        "for group_name, group in groups:\n",
        "    if len(group) <= 50 and group['face_detected'].iloc[0] == 0 and group['face_detected'].iloc[-1] == 0:\n",
        "        rows_to_remove.extend(group.index)\n",
        "\n",
        "# Remove the rows from the dataframe\n",
        "distracted_results = distracted_results.drop(rows_to_remove)\n",
        "\n",
        "# Remove the 'group' column\n",
        "distracted_results = distracted_results.drop('group', axis=1)"
      ],
      "metadata": {
        "id": "oJzOmiCVksyS"
      },
      "execution_count": null,
      "outputs": []
    },
    {
      "cell_type": "code",
      "source": [
        "#compare with dataframe that included the false rows, should be smaller\n",
        "print(len(distracted_results))"
      ],
      "metadata": {
        "colab": {
          "base_uri": "https://localhost:8080/"
        },
        "id": "LQsDrT6TVr96",
        "outputId": "b1455592-61e6-453d-db3c-e39dec37296e"
      },
      "execution_count": null,
      "outputs": [
        {
          "output_type": "stream",
          "name": "stdout",
          "text": [
            "18715\n"
          ]
        }
      ]
    },
    {
      "cell_type": "markdown",
      "source": [
        "#Collecting Data: Break Times"
      ],
      "metadata": {
        "id": "oy3IGdglDKN7"
      }
    },
    {
      "cell_type": "code",
      "source": [
        "#getting the lengths of breaks\n",
        "import pandas as pd\n",
        "\n",
        "distracted_break_totals_df = pd.DataFrame(columns=['start_time', 'end_time'])\n",
        "rolling_total_start = None\n",
        "rolling_total_end = None\n",
        "\n",
        "# Loop through the dataframe rows\n",
        "for index, row in distracted_results.iterrows():\n",
        "    face_detected_value = row['face_detected']\n",
        "    detection_time = row['detection_time']\n",
        "    \n",
        "    #new / first break reached\n",
        "    if face_detected_value == 0:\n",
        "        # mark the new break if it hasn't been started yet\n",
        "        if rolling_total_start is None:\n",
        "            rolling_total_start = detection_time\n",
        "    \n",
        "    #end of break reached\n",
        "    elif face_detected_value == 1 and rolling_total_start is not None:\n",
        "        # Record the end time of the break\n",
        "        rolling_total_end = detection_time\n",
        "        \n",
        "        # Create a dictionary object to store the break duration\n",
        "        rolling_total = {\n",
        "            'start_time': rolling_total_start,\n",
        "            'end_time': rolling_total_end\n",
        "        }\n",
        "        \n",
        "        # Append the break as a new row to the distracted_break_totals_df dataframe\n",
        "        distracted_break_totals_df = distracted_break_totals_df.append(rolling_total, ignore_index=True)\n",
        "        \n",
        "        # Reset the duration recording variables for the next break\n",
        "        rolling_total_start = None\n",
        "        rolling_total_end = None\n",
        "\n",
        "# Check if a break is still in progress when reaching the end of the dataframe\n",
        "if rolling_total_start is not None and rolling_total_end is None:\n",
        "    rolling_total_end = distracted_results.iloc[-1]['detection_time']\n",
        "    \n",
        "    # Create a dictionary object for the last break (if any)\n",
        "    rolling_total = {\n",
        "        'start_time': rolling_total_start,\n",
        "        'end_time': rolling_total_end\n",
        "    }\n",
        "    \n",
        "    # Append the last break as a new row to the distracted_break_totals_df dataframe\n",
        "    distracted_break_totals_df = distracted_break_totals_df.append(rolling_total, ignore_index=True)\n"
      ],
      "metadata": {
        "id": "Jcbh8ixbZISN"
      },
      "execution_count": null,
      "outputs": []
    },
    {
      "cell_type": "code",
      "source": [
        "pd.set_option('display.max_rows',None)\n",
        "\n",
        "print(distracted_break_totals_df)"
      ],
      "metadata": {
        "colab": {
          "base_uri": "https://localhost:8080/"
        },
        "id": "ajlcMMUqfeMV",
        "outputId": "30cc603f-7b62-48b5-abce-0db7771e498d"
      },
      "execution_count": null,
      "outputs": [
        {
          "output_type": "stream",
          "name": "stdout",
          "text": [
            "    start_time     end_time\n",
            "0   533.953024   540.832747\n",
            "1  1690.457583  1887.397205\n",
            "2  1893.031578  1914.145980\n",
            "3  3061.942892  3102.837913\n",
            "4  3102.837913  3187.709035\n"
          ]
        }
      ]
    },
    {
      "cell_type": "code",
      "source": [
        "#getting the lengths of breaks again\n",
        "\n",
        "import pandas as pd\n",
        "\n",
        "focused_break_totals_df = pd.DataFrame(columns=['start_time', 'end_time'])\n",
        "rolling_total_start = None\n",
        "rolling_total_end = None\n",
        "\n",
        "# Loop through the dataframe rows\n",
        "for index, row in undistracted_results.iterrows():\n",
        "    face_detected_value = row['face_detected']\n",
        "    detection_time = row['detection_time']\n",
        "    \n",
        "    #new / first break detected\n",
        "    if face_detected_value == 0:\n",
        "        # Start a new break if it hasn't been started yet\n",
        "        if rolling_total_start is None:\n",
        "            rolling_total_start = detection_time\n",
        "    \n",
        "    #end of break detected\n",
        "    elif face_detected_value == 1 and rolling_total_start is not None:\n",
        "        # Record the end time of the break\n",
        "        rolling_total_end = detection_time\n",
        "        \n",
        "        # Create a dictionary object to store the break information\n",
        "        rolling_total = {\n",
        "            'start_time': rolling_total_start,\n",
        "            'end_time': rolling_total_end\n",
        "        }\n",
        "        \n",
        "        # Append the break as a new row to the focused_break_totals_df dataframe\n",
        "        focused_break_totals_df = focused_break_totals_df.append(rolling_total, ignore_index=True)\n",
        "        \n",
        "        # Reset the duration variables for the next break\n",
        "        rolling_total_start = None\n",
        "        rolling_total_end = None\n",
        "\n",
        "# Check if a break is still in progress when reaching the end of the dataframe\n",
        "if rolling_total_start is not None and rolling_total_end is None:\n",
        "    rolling_total_end = undistracted_results.iloc[-1]['detection_time']\n",
        "    \n",
        "    # Create a dictionary object for the last break\n",
        "    rolling_total = {\n",
        "        'start_time': rolling_total_start,\n",
        "        'end_time': rolling_total_end\n",
        "    }\n",
        "    \n",
        "    # Append the last break as a new row to the focused_break_totals_df dataframe\n",
        "    focused_break_totals_df = focused_break_totals_df.append(rolling_total, ignore_index=True)\n"
      ],
      "metadata": {
        "id": "_JEdIO8_gHo7"
      },
      "execution_count": null,
      "outputs": []
    },
    {
      "cell_type": "code",
      "source": [
        "pd.set_option('display.max_rows',None)\n",
        "\n",
        "print(focused_break_totals_df)"
      ],
      "metadata": {
        "colab": {
          "base_uri": "https://localhost:8080/"
        },
        "id": "g_4TQeHEgjJN",
        "outputId": "6219c1f4-bf70-4c41-bc57-716a25e91517"
      },
      "execution_count": null,
      "outputs": [
        {
          "output_type": "stream",
          "name": "stdout",
          "text": [
            "     start_time     end_time\n",
            "0    374.714268   380.213569\n",
            "1    715.978380  1029.483127\n",
            "2   1082.306152  1093.199547\n",
            "3   1287.990566  1299.750772\n",
            "4   1300.466727  1312.539657\n",
            "5   1445.305624  1455.513844\n",
            "6   1459.340274  1475.678607\n",
            "7   1532.375868  1544.797261\n",
            "8   1589.467890  1600.882084\n",
            "9   1608.003502  1617.187495\n",
            "10  1625.956194  1665.632416\n",
            "11  1666.984272  1689.494312\n",
            "12  1691.702991  1716.467405\n",
            "13  1726.240882  1734.867143\n",
            "14  1781.930121  1799.349401\n",
            "15  1809.884274  1841.516077\n",
            "16  1847.763920  1866.384019\n",
            "17  1881.431670  1898.691217\n",
            "18  1900.309237  1912.516387\n",
            "19  2054.174804  2116.202737\n",
            "20  2116.202737  2126.294255\n",
            "21  2128.215136  2293.481482\n",
            "22  2558.977350  2568.169221\n",
            "23  3097.207289  3210.007295\n",
            "24  3210.479966  3304.252968\n",
            "25  3550.495910  3600.014897\n"
          ]
        }
      ]
    },
    {
      "cell_type": "markdown",
      "source": [
        "#Collecting Data: Quiz Scores"
      ],
      "metadata": {
        "id": "b3HM-hCQTrCG"
      }
    },
    {
      "cell_type": "code",
      "source": [
        "focused_quiz_scores = pd.DataFrame(columns=['quiz', 'score'])\n",
        "\n",
        "# Insert the quiz names and scores into the DataFrame\n",
        "focused_quiz_scores = focused_quiz_scores.append({'quiz': 'Simple Line Plots', 'score': '9/11'}, ignore_index=True)\n",
        "focused_quiz_scores = focused_quiz_scores.append({'quiz': 'Plotting basics', 'score': '4/11'}, ignore_index=True)\n",
        "focused_quiz_scores = focused_quiz_scores.append({'quiz': 'Visualising errors', 'score': '3/6'}, ignore_index=True)\n",
        "focused_quiz_scores = focused_quiz_scores.append({'quiz': 'Density and contour plots', 'score': '8/8'}, ignore_index=True)\n",
        "focused_quiz_scores = focused_quiz_scores.append({'quiz': 'Histograms, binnings', 'score': '8/10'}, ignore_index=True)\n",
        "focused_quiz_scores = focused_quiz_scores.append({'quiz': 'Customizing plot legends', 'score': '7/10'}, ignore_index=True)\n",
        "\n"
      ],
      "metadata": {
        "id": "K1YqGpZ3Tw6k"
      },
      "execution_count": null,
      "outputs": []
    },
    {
      "cell_type": "code",
      "source": [
        "#change scores into percentages\n",
        "focused_quiz_scores['score'] = focused_quiz_scores['score'].apply(lambda x: round(eval(x) * 100, 2))\n",
        "\n",
        "# Print the updated DataFrame\n",
        "print(focused_quiz_scores)"
      ],
      "metadata": {
        "colab": {
          "base_uri": "https://localhost:8080/"
        },
        "id": "P5UlA_YLVg0m",
        "outputId": "e1001318-39b2-4fd9-f098-e51584ed120b"
      },
      "execution_count": null,
      "outputs": [
        {
          "output_type": "stream",
          "name": "stdout",
          "text": [
            "                        quiz   score\n",
            "0          Simple Line Plots   81.82\n",
            "1            Plotting basics   36.36\n",
            "2         Visualising errors   50.00\n",
            "3  Density and contour plots  100.00\n",
            "4       Histograms, binnings   80.00\n",
            "5   Customizing plot legends   70.00\n"
          ]
        }
      ]
    },
    {
      "cell_type": "code",
      "source": [
        "# Create the 'distracted_quiz_scores' DataFrame\n",
        "distracted_quiz_scores = pd.DataFrame(columns=['quiz', 'score'])\n",
        "\n",
        "# Insert the quiz names and scores into the DataFrame\n",
        "distracted_quiz_scores = distracted_quiz_scores.append({'quiz': 'Customizing colarbars', 'score': '6/9'}, ignore_index=True)\n",
        "distracted_quiz_scores = distracted_quiz_scores.append({'quiz': 'Multiple subplots', 'score': '7/10'}, ignore_index=True)\n",
        "distracted_quiz_scores = distracted_quiz_scores.append({'quiz': 'Text and annotation', 'score': '5/6'}, ignore_index=True)\n",
        "distracted_quiz_scores = distracted_quiz_scores.append({'quiz': 'Customizing ticks', 'score': '7/10'}, ignore_index=True)\n",
        "distracted_quiz_scores = distracted_quiz_scores.append({'quiz': 'Matplotlib', 'score': '8/10'}, ignore_index=True)\n",
        "distracted_quiz_scores = distracted_quiz_scores.append({'quiz': '3D plotting', 'score': '8/10'}, ignore_index=True)\n",
        "distracted_quiz_scores = distracted_quiz_scores.append({'quiz': 'Geographic data', 'score': '6/10'}, ignore_index=True)\n",
        "distracted_quiz_scores = distracted_quiz_scores.append({'quiz': 'Visualization with seaborn', 'score': '7/10'}, ignore_index=True)\n"
      ],
      "metadata": {
        "id": "7hN4KP2cV07O"
      },
      "execution_count": null,
      "outputs": []
    },
    {
      "cell_type": "code",
      "source": [
        "# change scores to percentages\n",
        "distracted_quiz_scores['score'] = distracted_quiz_scores['score'].apply(lambda x: round(eval(x) * 100, 2))\n",
        "\n",
        "# Print the updated DataFrame\n",
        "print(distracted_quiz_scores)"
      ],
      "metadata": {
        "colab": {
          "base_uri": "https://localhost:8080/"
        },
        "id": "ocVzq72AV6t-",
        "outputId": "0f0d0826-da7e-4797-f970-0436c4650425"
      },
      "execution_count": null,
      "outputs": [
        {
          "output_type": "stream",
          "name": "stdout",
          "text": [
            "                         quiz  score\n",
            "0       Customizing colarbars  66.67\n",
            "1           Multiple subplots  70.00\n",
            "2         Text and annotation  83.33\n",
            "3           Customizing ticks  70.00\n",
            "4                  Matplotlib  80.00\n",
            "5                 3D plotting  80.00\n",
            "6             Geographic data  60.00\n",
            "7  Visualization with seaborn  70.00\n"
          ]
        }
      ]
    },
    {
      "cell_type": "code",
      "source": [
        "# Merge the DataFrames\n",
        "merged_scores = pd.concat([distracted_quiz_scores, focused_quiz_scores], keys=['distracted', 'focused'])\n",
        "\n",
        "# add origin of each score as a column in df\n",
        "merged_scores = merged_scores.reset_index()\n",
        "merged_scores = merged_scores.rename(columns={'level_0': 'origin'})\n",
        "\n",
        "# Remove the 'level_1' column (indices of rows in their original dataframes)\n",
        "merged_scores = merged_scores.drop(columns='level_1')\n",
        "\n",
        "# Display the merged DataFrame\n",
        "print(merged_scores)"
      ],
      "metadata": {
        "colab": {
          "base_uri": "https://localhost:8080/"
        },
        "id": "b_1F7Sx0sL5b",
        "outputId": "cd43f19a-ec62-468e-af13-255d26297dc6"
      },
      "execution_count": null,
      "outputs": [
        {
          "output_type": "stream",
          "name": "stdout",
          "text": [
            "        origin                        quiz   score\n",
            "0   distracted       Customizing colarbars   66.67\n",
            "1   distracted           Multiple subplots   70.00\n",
            "2   distracted         Text and annotation   83.33\n",
            "3   distracted           Customizing ticks   70.00\n",
            "4   distracted                  Matplotlib   80.00\n",
            "5   distracted                 3D plotting   80.00\n",
            "6   distracted             Geographic data   60.00\n",
            "7   distracted  Visualization with seaborn   70.00\n",
            "8      focused           Simple Line Plots   81.82\n",
            "9      focused             Plotting basics   36.36\n",
            "10     focused          Visualising errors   50.00\n",
            "11     focused   Density and contour plots  100.00\n",
            "12     focused        Histograms, binnings   80.00\n",
            "13     focused    Customizing plot legends   70.00\n"
          ]
        }
      ]
    },
    {
      "cell_type": "markdown",
      "source": [
        "#Collecting Data: Reading times\n"
      ],
      "metadata": {
        "id": "VSARfyBghkEb"
      }
    },
    {
      "cell_type": "code",
      "source": [
        "#apply same logic in collecting break time durations to collect distracted_reading times\n",
        "\n",
        "distracted_reading_totals_df = pd.DataFrame(columns=['start_time', 'end_time'])\n",
        "rolling_total_start = None\n",
        "rolling_total_end = None\n",
        "\n",
        "# Loop through the dataframe rows\n",
        "for index, row in distracted_results.iterrows():\n",
        "    face_detected_value = row['face_detected']\n",
        "    detection_time = row['detection_time']\n",
        "    \n",
        "    if face_detected_value == 1:\n",
        "        # Start a new rolling total if it hasn't been started yet\n",
        "        if rolling_total_start is None:\n",
        "            rolling_total_start = detection_time\n",
        "        \n",
        "        # Update the end time of the rolling total\n",
        "        rolling_total_end = detection_time\n",
        "    \n",
        "    elif face_detected_value == 0 and rolling_total_start is not None:\n",
        "        # Create a dictionary object to store the rolling total information\n",
        "        rolling_total = {\n",
        "            'start_time': rolling_total_start,\n",
        "            'end_time': rolling_total_end\n",
        "        }\n",
        "        \n",
        "        # Append the rolling total as a new row to the distracted_reading_totals_df dataframe\n",
        "        distracted_reading_totals_df = distracted_reading_totals_df.append(rolling_total, ignore_index=True)\n",
        "        \n",
        "        # Reset the rolling total variables for the next rolling total\n",
        "        rolling_total_start = None\n",
        "        rolling_total_end = None\n",
        "\n",
        "# Check if a rolling total is still in progress when reaching the end of the dataframe\n",
        "if rolling_total_start is not None and rolling_total_end is None:\n",
        "    rolling_total_end = distracted_results.iloc[-1]['detection_time']\n",
        "    \n",
        "    # Create a dictionary object for the last rolling total\n",
        "    rolling_total = {\n",
        "        'start_time': rolling_total_start,\n",
        "        'end_time': rolling_total_end\n",
        "    }\n",
        "    \n",
        "    # Append the last rolling total as a new row to the distracted_reading_totals_df dataframe\n",
        "    distracted_reading_totals_df = distracted_reading_totals_df.append(rolling_total, ignore_index=True)\n"
      ],
      "metadata": {
        "id": "DrP-Sslbhrf5"
      },
      "execution_count": null,
      "outputs": []
    },
    {
      "cell_type": "code",
      "source": [
        "#error in initial collection,record last reading duration\n",
        "distracted_reading_totals_df = distracted_reading_totals_df.append({\n",
        "    'start_time': 3187.709035,\n",
        "    'end_time': 3600.098200\n",
        "},ignore_index = True)"
      ],
      "metadata": {
        "id": "lgzUoAXmiBle"
      },
      "execution_count": null,
      "outputs": []
    },
    {
      "cell_type": "code",
      "source": [
        "pd.set_option('display.max_rows', None)\n",
        "print(distracted_reading_totals_df)\n"
      ],
      "metadata": {
        "colab": {
          "base_uri": "https://localhost:8080/"
        },
        "id": "cpIon6pUH303",
        "outputId": "fea54705-8862-4706-8661-b4a96c9cd438"
      },
      "execution_count": null,
      "outputs": [
        {
          "output_type": "stream",
          "name": "stdout",
          "text": [
            "    start_time     end_time\n",
            "0     6.672797   533.953024\n",
            "1   540.832747  1690.457583\n",
            "2  1887.397205  1893.031578\n",
            "3  1914.145980  3061.942892\n",
            "4  3102.837913  3102.837913\n",
            "5  3187.709035  3600.098200\n"
          ]
        }
      ]
    },
    {
      "cell_type": "code",
      "source": [
        "#apply same logic in collecting break time durations to collect focused reading times\n",
        "\n",
        "import pandas as pd\n",
        "\n",
        "focused_reading_totals_df = pd.DataFrame(columns=['start_time', 'end_time'])\n",
        "rolling_total_start = None\n",
        "rolling_total_end = None\n",
        "\n",
        "# Loop through the dataframe rows\n",
        "for index, row in undistracted_results.iterrows():\n",
        "    face_detected_value = row['face_detected']\n",
        "    detection_time = row['detection_time']\n",
        "    \n",
        "    if face_detected_value == 1:\n",
        "        # Start a new rolling total if it hasn't been started yet\n",
        "        if rolling_total_start is None:\n",
        "            rolling_total_start = detection_time\n",
        "    \n",
        "    elif face_detected_value == 0 and rolling_total_start is not None:\n",
        "        # Record the end time of the rolling total\n",
        "        rolling_total_end = detection_time\n",
        "        \n",
        "        # Create a dictionary object to store the rolling total information\n",
        "        rolling_total = {\n",
        "            'start_time': rolling_total_start,\n",
        "            'end_time': rolling_total_end\n",
        "        }\n",
        "        \n",
        "        # Append the rolling total as a new row to the focused_reading_totals_df dataframe\n",
        "        focused_reading_totals_df = focused_reading_totals_df.append(rolling_total, ignore_index=True)\n",
        "        \n",
        "        # Reset the rolling total variables for the next rolling total\n",
        "        rolling_total_start = None\n",
        "        rolling_total_end = None\n",
        "\n",
        "# Check if a rolling total is still in progress when reaching the end of the dataframe\n",
        "if rolling_total_start is not None and rolling_total_end is None:\n",
        "    rolling_total_end = undistracted_results.iloc[-1]['detection_time']\n",
        "    \n",
        "    # Create a dictionary object for the last rolling total\n",
        "    rolling_total = {\n",
        "        'start_time': rolling_total_start,\n",
        "        'end_time': rolling_total_end\n",
        "    }\n",
        "    \n",
        "    # Append the last rolling total as a new row to the focused_reading_totals_df dataframe\n",
        "    focused_reading_totals_df = focused_reading_totals_df.append(rolling_total, ignore_index=True)\n"
      ],
      "metadata": {
        "id": "u8Rfk5o9irS6"
      },
      "execution_count": null,
      "outputs": []
    },
    {
      "cell_type": "code",
      "source": [
        "pd.set_option('display.max_rows', None)\n",
        "print(focused_reading_totals_df)"
      ],
      "metadata": {
        "colab": {
          "base_uri": "https://localhost:8080/"
        },
        "id": "obkG_FBFi1lU",
        "outputId": "81fbcdeb-0b19-40ae-fe5a-5a1271531390"
      },
      "execution_count": null,
      "outputs": [
        {
          "output_type": "stream",
          "name": "stdout",
          "text": [
            "     start_time     end_time\n",
            "0      5.950251   374.714268\n",
            "1    380.213569   715.978380\n",
            "2   1029.483127  1082.306152\n",
            "3   1093.199547  1287.990566\n",
            "4   1299.750772  1300.466727\n",
            "5   1312.539657  1445.305624\n",
            "6   1455.513844  1459.340274\n",
            "7   1475.678607  1532.375868\n",
            "8   1544.797261  1589.467890\n",
            "9   1600.882084  1608.003502\n",
            "10  1617.187495  1625.956194\n",
            "11  1665.632416  1666.984272\n",
            "12  1689.494312  1691.702991\n",
            "13  1716.467405  1726.240882\n",
            "14  1734.867143  1781.930121\n",
            "15  1799.349401  1809.884274\n",
            "16  1841.516077  1847.763920\n",
            "17  1866.384019  1881.431670\n",
            "18  1898.691217  1900.309237\n",
            "19  1912.516387  2054.174804\n",
            "20  2116.202737  2116.202737\n",
            "21  2126.294255  2128.215136\n",
            "22  2293.481482  2558.977350\n",
            "23  2568.169221  3097.207289\n",
            "24  3210.007295  3210.479966\n",
            "25  3304.252968  3550.495910\n"
          ]
        }
      ]
    },
    {
      "cell_type": "markdown",
      "source": [
        "#Cleaning Data: Reading Times\n"
      ],
      "metadata": {
        "id": "1rGP7nYrLP1L"
      }
    },
    {
      "cell_type": "code",
      "source": [
        "#remove reading durations that arent significant (usually less than a minute or so)\n",
        "\n",
        "distracted_reading_totals_df = distracted_reading_totals_df.drop(4)\n",
        "distracted_reading_totals_df = distracted_reading_totals_df.drop(2)\n",
        "\n",
        "print(distracted_reading_totals_df)"
      ],
      "metadata": {
        "colab": {
          "base_uri": "https://localhost:8080/"
        },
        "id": "Hn_J2H01LVIN",
        "outputId": "15afabbb-6fa6-4478-e2ed-5ee65eb9d736"
      },
      "execution_count": null,
      "outputs": [
        {
          "output_type": "stream",
          "name": "stdout",
          "text": [
            "    start_time     end_time\n",
            "0     6.672797   533.953024\n",
            "1   540.832747  1690.457583\n",
            "3  1914.145980  3061.942892\n",
            "4  3102.837913  3102.837913\n",
            "5  3187.709035  3600.098200\n"
          ]
        }
      ]
    },
    {
      "cell_type": "code",
      "source": [
        "faulty_recordings=[4,6,9,10,11,12,13,15,16,18,20,21,24]\n",
        "focused_reading_totals_df = focused_reading_totals_df.drop(faulty_recordings, axis=0)\n",
        "print(focused_reading_totals_df)"
      ],
      "metadata": {
        "colab": {
          "base_uri": "https://localhost:8080/"
        },
        "id": "i6nZuw-ZLfLl",
        "outputId": "d05fc47f-aea8-4820-de34-5fc59351fb85"
      },
      "execution_count": null,
      "outputs": [
        {
          "output_type": "stream",
          "name": "stdout",
          "text": [
            "     start_time     end_time\n",
            "0      5.950251   374.714268\n",
            "1    380.213569   715.978380\n",
            "2   1029.483127  1082.306152\n",
            "3   1093.199547  1287.990566\n",
            "5   1312.539657  1445.305624\n",
            "7   1475.678607  1532.375868\n",
            "8   1544.797261  1589.467890\n",
            "14  1734.867143  1781.930121\n",
            "17  1866.384019  1881.431670\n",
            "19  1912.516387  2054.174804\n",
            "22  2293.481482  2558.977350\n",
            "23  2568.169221  3097.207289\n",
            "25  3304.252968  3550.495910\n"
          ]
        }
      ]
    },
    {
      "cell_type": "markdown",
      "source": [
        "#Exploratory Analysis: Reading & Break Times\n",
        "-- --\n",
        "Mean, Median, Standard Deviation"
      ],
      "metadata": {
        "id": "D50TWZ2ZmC9x"
      }
    },
    {
      "cell_type": "code",
      "source": [
        "#NOTE: 'm m s' = 'mean median standard deviation'\n",
        "\n",
        "#m m s of distracted reading\n",
        "\n",
        "# Calculate the duration of each reading period\n",
        "distracted_reading_totals_df['duration'] = distracted_reading_totals_df['end_time'] - distracted_reading_totals_df['start_time']\n",
        "\n",
        "# Calculate the m m s for reading time\n",
        "mean_reading_time = distracted_reading_totals_df['duration'].mean()\n",
        "median_reading_time = median_age = distracted_reading_totals_df['duration'].median()\n",
        "std_reading_time = distracted_reading_totals_df['duration'].std()\n",
        "# Print the result\n",
        "print(\"Mean reading time (distracted):\", mean_reading_time)\n",
        "print(\"Median reading time (distracted):\", median_reading_time)\n",
        "print(\"Standard Deviation reading time (distracted):\", std_reading_time)"
      ],
      "metadata": {
        "id": "B2nVDG8-mL3L",
        "colab": {
          "base_uri": "https://localhost:8080/"
        },
        "outputId": "35e66ce1-ade6-4bd6-abf0-8863b55a144e"
      },
      "execution_count": null,
      "outputs": [
        {
          "output_type": "stream",
          "name": "stdout",
          "text": [
            "Mean reading time (distracted): 647.4182280691223\n",
            "Median reading time (distracted): 527.2802264690399\n",
            "Standard Deviation reading time (distracted): 497.8484877988015\n"
          ]
        }
      ]
    },
    {
      "cell_type": "code",
      "source": [
        "#m m s of focused reading\n",
        "\n",
        "# Calculate the duration of each reading period\n",
        "focused_reading_totals_df['duration'] = focused_reading_totals_df['end_time'] - focused_reading_totals_df['start_time']\n",
        "\n",
        "# Calculate the m m s for reading time\n",
        "fo_mean_reading_time = focused_reading_totals_df['duration'].mean()\n",
        "fo_median_reading_time = median_age = focused_reading_totals_df['duration'].median()\n",
        "fo_std_reading_time = focused_reading_totals_df['duration'].std()\n",
        "# Print the result\n",
        "print(\"Mean reading time (focused):\", fo_mean_reading_time)\n",
        "print(\"Median reading time (focused):\", fo_median_reading_time)\n",
        "print(\"Standard Deviation reading time (focused):\", fo_std_reading_time)"
      ],
      "metadata": {
        "colab": {
          "base_uri": "https://localhost:8080/"
        },
        "id": "R9FiHclfDC_J",
        "outputId": "213ab436-73cc-4c86-9dd2-f62871766766"
      },
      "execution_count": null,
      "outputs": [
        {
          "output_type": "stream",
          "name": "stdout",
          "text": [
            "Mean reading time (focused): 186.98635794566223\n",
            "Median reading time (focused): 141.65841698646568\n",
            "Standard Deviation reading time (focused): 155.79855460147797\n"
          ]
        }
      ]
    },
    {
      "cell_type": "code",
      "source": [
        "# m m s of distracted breaks\n",
        "\n",
        "# Calculate the duration of each reading period\n",
        "distracted_break_totals_df['duration'] = distracted_break_totals_df['end_time'] - distracted_break_totals_df['start_time']\n",
        "\n",
        "# Calculate the m m s of break time\n",
        "mean_break_time = distracted_break_totals_df['duration'].mean()\n",
        "median_break_time = median_age = distracted_break_totals_df['duration'].median()\n",
        "std_break_time = distracted_break_totals_df['duration'].std()\n",
        "# Print the result\n",
        "print(\"Mean break time (distracted):\", mean_break_time)\n",
        "print(\"Median break time (distracted):\", median_break_time)\n",
        "print(\"Standard Deviation break time (distracted):\", std_break_time)"
      ],
      "metadata": {
        "colab": {
          "base_uri": "https://localhost:8080/"
        },
        "id": "Ttd5Q6ZCPUpV",
        "outputId": "9b4b8e33-4c81-4daa-dd4f-948368626a26"
      },
      "execution_count": null,
      "outputs": [
        {
          "output_type": "stream",
          "name": "stdout",
          "text": [
            "Mean break time (distracted): 70.13997774124145\n",
            "Median break time (distracted): 40.895020723342896\n",
            "Standard Deviation break time (distracted): 76.73947923397375\n"
          ]
        }
      ]
    },
    {
      "cell_type": "code",
      "source": [
        "# Calculate the duration of each reading period\n",
        "focused_break_totals_df['duration'] = focused_break_totals_df['end_time'] - focused_break_totals_df['start_time']\n",
        "\n",
        "# Calculate the m m s of break time\n",
        "fo_mean_break_time = focused_break_totals_df['duration'].mean()\n",
        "fo_median_break_time = median_age = focused_break_totals_df['duration'].median()\n",
        "fo_std_break_time = focused_break_totals_df['duration'].std()\n",
        "# Print the result\n",
        "print(\"Mean break time (focused):\", fo_mean_break_time)\n",
        "print(\"Median break time (focused):\", fo_median_break_time)\n",
        "print(\"Standard Deviation break time (focused):\", fo_std_break_time)"
      ],
      "metadata": {
        "colab": {
          "base_uri": "https://localhost:8080/"
        },
        "id": "E36v1SAGTMwX",
        "outputId": "6e397a1d-42b9-4617-eb7a-e9639f088f96"
      },
      "execution_count": null,
      "outputs": [
        {
          "output_type": "stream",
          "name": "stdout",
          "text": [
            "Mean break time (focused): 42.641584203793464\n",
            "Median break time (focused): 16.798939704895133\n",
            "Standard Deviation break time (focused): 67.04167546228894\n"
          ]
        }
      ]
    },
    {
      "cell_type": "markdown",
      "source": [
        "#Exploratory Analysis: Quiz Scores\n",
        "-- --\n",
        "Mean, Median, Standard Deviation"
      ],
      "metadata": {
        "id": "QG59T0REWEyT"
      }
    },
    {
      "cell_type": "code",
      "source": [
        "# Calculate the mean of the 'score' column\n",
        "mean_score = distracted_quiz_scores['score'].mean()\n",
        "\n",
        "# Calculate the median of the 'score' column\n",
        "median_score = distracted_quiz_scores['score'].median()\n",
        "\n",
        "# Calculate the standard deviation of the 'score' column\n",
        "std_score = distracted_quiz_scores['score'].std()\n",
        "\n",
        "# Print the mean, median, and standard deviation\n",
        "print(\"Mean score:\", mean_score)\n",
        "print(\"Median score:\", median_score)\n",
        "print(\"Standard Deviation of score:\", std_score)"
      ],
      "metadata": {
        "colab": {
          "base_uri": "https://localhost:8080/"
        },
        "id": "FWFsfTZ8WIYW",
        "outputId": "306fdc32-0846-4cd5-ff88-d48637d45ea4"
      },
      "execution_count": null,
      "outputs": [
        {
          "output_type": "stream",
          "name": "stdout",
          "text": [
            "Mean score: 72.5\n",
            "Median score: 70.0\n",
            "Standard Deviation of score: 7.917230756845656\n"
          ]
        }
      ]
    },
    {
      "cell_type": "code",
      "source": [
        "\n",
        "\n",
        "# Prefix each score with 'fo_'\n",
        "focused_quiz_scores['score'] = focused_quiz_scores['score']\n",
        "\n",
        "# Calculate the mean of the 'score' column\n",
        "fo_mean_score = focused_quiz_scores['score'].mean()\n",
        "\n",
        "# Calculate the median of the 'score' column\n",
        "fo_median_score = focused_quiz_scores['score'].median()\n",
        "\n",
        "# Calculate the standard deviation of the 'score' column\n",
        "fo_std_score = focused_quiz_scores['score'].std()\n",
        "\n",
        "# Print the mean, median, and standard deviation\n",
        "print(\"Mean score:\", fo_mean_score)\n",
        "print(\"Median score:\", fo_median_score)\n",
        "print(\"Standard Deviation of score:\", fo_std_score)\n"
      ],
      "metadata": {
        "colab": {
          "base_uri": "https://localhost:8080/"
        },
        "id": "FKK2yrtdYxUo",
        "outputId": "f86e9235-ea1d-47ff-e625-8121d24fd780"
      },
      "execution_count": null,
      "outputs": [
        {
          "output_type": "stream",
          "name": "stdout",
          "text": [
            "Mean score: 69.69666666666667\n",
            "Median score: 75.0\n",
            "Standard Deviation of score: 23.111944675138584\n"
          ]
        }
      ]
    },
    {
      "cell_type": "markdown",
      "source": [
        "#Exploratory Analysis: Visualizations"
      ],
      "metadata": {
        "id": "kELlmePEmYeJ"
      }
    },
    {
      "cell_type": "code",
      "source": [
        "# Calculate the sum of the 'duration' columns\n",
        "focused_reading_sum = focused_reading_totals_df['duration'].sum()\n",
        "distracted_reading_sum = distracted_reading_totals_df['duration'].sum()\n",
        "focused_break_sum = focused_break_totals_df['duration'].sum()\n",
        "distracted_break_sum = distracted_break_totals_df['duration'].sum()\n",
        "\n",
        "# Create a new dataframe\n",
        "data = {\n",
        "    'trial': ['focused', 'distracted', 'focused', 'distracted'],\n",
        "    'cum_sum': [focused_reading_sum, distracted_reading_sum, focused_break_sum, distracted_break_sum],\n",
        "    'activity': ['reading', 'reading', 'break', 'break']\n",
        "}\n",
        "merged_totals_df = pd.DataFrame(data)\n",
        "\n",
        "# Display the merged_totals_df dataframe\n",
        "print(merged_totals_df)"
      ],
      "metadata": {
        "colab": {
          "base_uri": "https://localhost:8080/"
        },
        "id": "-wBaXw3wmdFz",
        "outputId": "a08d5d2e-ef83-44de-9968-243d23bb60ce"
      },
      "execution_count": null,
      "outputs": [
        {
          "output_type": "stream",
          "name": "stdout",
          "text": [
            "        trial      cum_sum activity\n",
            "0     focused  2430.822653  reading\n",
            "1  distracted  3237.091140  reading\n",
            "2     focused  1108.681189    break\n",
            "3  distracted   350.699889    break\n"
          ]
        }
      ]
    },
    {
      "cell_type": "code",
      "source": [
        "import matplotlib.pyplot as plt\n",
        "import seaborn as sns\n",
        "\n",
        "sns.barplot(x='trial',y='cum_sum',hue='activity',data=merged_totals_df)\n",
        "\n",
        "plt.title('Total time reading vs. taking a break by trial')\n",
        "plt.xlabel('trial')\n",
        "plt.ylabel('Duration (s)')\n",
        "plt.legend(bbox_to_anchor=(1, 0.5))\n",
        "\n",
        "#annotate the cumulative sums above their corresponding bar\n",
        "for p in plt.gca().patches:\n",
        "    plt.gca().annotate(f\"{p.get_height():.2f}\", (p.get_x() + p.get_width() / 2, p.get_height()),\n",
        "                       ha='center', va='bottom')\n",
        "plt.show()"
      ],
      "metadata": {
        "colab": {
          "base_uri": "https://localhost:8080/",
          "height": 472
        },
        "id": "rOMDkUN-ulnv",
        "outputId": "3e643c6d-9438-43f8-a2d7-71af7ed2dd32"
      },
      "execution_count": null,
      "outputs": [
        {
          "output_type": "display_data",
          "data": {
            "text/plain": [
              "<Figure size 640x480 with 1 Axes>"
            ],
            "image/png": "[encoded data removed]"
          },
          "metadata": {}
        }
      ]
    },
    {
      "cell_type": "code",
      "source": [
        "print(distracted_reading_totals_df)"
      ],
      "metadata": {
        "colab": {
          "base_uri": "https://localhost:8080/"
        },
        "id": "qjSMGe8Xw_8b",
        "outputId": "2f544749-8477-4fe9-a6d4-640602bd9676"
      },
      "execution_count": null,
      "outputs": [
        {
          "output_type": "stream",
          "name": "stdout",
          "text": [
            "    start_time     end_time     duration\n",
            "0     6.672797   533.953024   527.280226\n",
            "1   540.832747  1690.457583  1149.624837\n",
            "3  1914.145980  3061.942892  1147.796912\n",
            "4  3102.837913  3102.837913     0.000000\n",
            "5  3187.709035  3600.098200   412.389165\n"
          ]
        }
      ]
    },
    {
      "cell_type": "code",
      "source": [
        "import matplotlib.pyplot as plt\n",
        "import numpy as np\n",
        "\n",
        "# Calculate the cumulative sum of duration for each trial\n",
        "cumulative_sum_distracted = distracted_reading_totals_df['duration'].cumsum()\n",
        "cumulative_sum_focused = focused_reading_totals_df['duration'].cumsum()\n",
        "\n",
        "# Set the x-coordinates as the 'end_time' column for each trial\n",
        "\n",
        "x_distracted = distracted_reading_totals_df['end_time']\n",
        "x_focused = focused_reading_totals_df['end_time']\n",
        "\n",
        "# Create the figure and axis objects\n",
        "fig, ax = plt.subplots()\n",
        "\n",
        "# Plot the points and connect them with a line\n",
        "ax.plot(x_distracted, cumulative_sum_distracted, marker='o', linestyle='-', label='Distracted', color='blue')\n",
        "ax.plot(x_focused, cumulative_sum_focused, marker='o', linestyle='-', label='Focused', color='orange')\n",
        "\n",
        "# Set the plot title and axis labels\n",
        "plt.title('Cumulative Sum of Time spent reading')\n",
        "plt.xlabel('Elapsed Time (s)')\n",
        "plt.ylabel('Cumulative Sum of Duration (s)')\n",
        "\n",
        "# Show the legend\n",
        "plt.legend()\n",
        "\n",
        "# Show the plot\n",
        "plt.show()"
      ],
      "metadata": {
        "colab": {
          "base_uri": "https://localhost:8080/",
          "height": 472
        },
        "id": "2dutZr4Z19FK",
        "outputId": "c572af3c-84ae-47c2-f4fd-ea1d5a5bb0da"
      },
      "execution_count": null,
      "outputs": [
        {
          "output_type": "display_data",
          "data": {
            "text/plain": [
              "<Figure size 640x480 with 1 Axes>"
            ],
            "image/png": "[encoded data removed]"
          },
          "metadata": {}
        }
      ]
    },
    {
      "cell_type": "code",
      "source": [
        "# Calculate the cumulative sum of duration for each dataframe\n",
        "cumulative_sum_distracted = distracted_break_totals_df['duration'].cumsum()\n",
        "cumulative_sum_focused = focused_break_totals_df['duration'].cumsum()\n",
        "\n",
        "# Set the x-coordinates as the 'end_time' column for each dataframe\n",
        "x_distracted = distracted_break_totals_df['end_time']\n",
        "x_focused = focused_break_totals_df['end_time']\n",
        "\n",
        "# Create the figure and axis objects\n",
        "fig, ax = plt.subplots()\n",
        "\n",
        "# Plot the points and connect them with a line\n",
        "ax.plot(x_distracted, cumulative_sum_distracted, marker='o', linestyle='-', label='Distracted', color='blue')\n",
        "ax.plot(x_focused, cumulative_sum_focused, marker='o', linestyle='-', label='Focused', color='orange')\n",
        "\n",
        "# Set the plot title and axis labels\n",
        "plt.title('Cumulative Sum of Time spent taking breaks')\n",
        "plt.xlabel('Elapsed Time (s)')\n",
        "plt.ylabel('Cumulative Sum of Duration (s)')\n",
        "\n",
        "# Show the legend\n",
        "plt.legend()\n",
        "\n",
        "# Show the plot\n",
        "plt.show()"
      ],
      "metadata": {
        "colab": {
          "base_uri": "https://localhost:8080/",
          "height": 472
        },
        "id": "Gu9V6nEk_SOX",
        "outputId": "53a82124-a7f8-4ab6-f05d-3373323d3bca"
      },
      "execution_count": null,
      "outputs": [
        {
          "output_type": "display_data",
          "data": {
            "text/plain": [
              "<Figure size 640x480 with 1 Axes>"
            ],
            "image/png": "[encoded data removed]"
          },
          "metadata": {}
        }
      ]
    },
    {
      "cell_type": "code",
      "source": [
        "# Create an empty dataframe to store the merged data\n",
        "merged_df = pd.DataFrame()\n",
        "\n",
        "# Concatenate the 'duration' column from each dataframe\n",
        "dataframes = [focused_reading_totals_df, distracted_reading_totals_df, focused_break_totals_df, distracted_break_totals_df]\n",
        "origins = ['focused_reading', 'distracted_reading', 'focused_break', 'distracted_break']\n",
        "\n",
        "#Iterate over DataFrames and origins, adding 'origin' column to each DataFrame and merging them into one df\n",
        "for df, origin in zip(dataframes, origins):\n",
        "    df['origin'] = origin\n",
        "    merged_df = pd.concat([merged_df, df[['duration', 'origin']]], ignore_index=True) \n",
        "\n",
        "# Display the merged dataframe\n",
        "print(merged_df)"
      ],
      "metadata": {
        "colab": {
          "base_uri": "https://localhost:8080/"
        },
        "id": "dEz0HhRz-f4g",
        "outputId": "7c78924a-a1ae-4fdc-99db-bcdcb34d54af"
      },
      "execution_count": null,
      "outputs": [
        {
          "output_type": "stream",
          "name": "stdout",
          "text": [
            "       duration              origin\n",
            "0    368.764017     focused_reading\n",
            "1    335.764811     focused_reading\n",
            "2     52.823025     focused_reading\n",
            "3    194.791019     focused_reading\n",
            "4    132.765968     focused_reading\n",
            "5     56.697262     focused_reading\n",
            "6     44.670630     focused_reading\n",
            "7     47.062978     focused_reading\n",
            "8     15.047651     focused_reading\n",
            "9    141.658417     focused_reading\n",
            "10   265.495867     focused_reading\n",
            "11   529.038068     focused_reading\n",
            "12   246.242942     focused_reading\n",
            "13   527.280226  distracted_reading\n",
            "14  1149.624837  distracted_reading\n",
            "15  1147.796912  distracted_reading\n",
            "16     0.000000  distracted_reading\n",
            "17   412.389165  distracted_reading\n",
            "18     5.499301       focused_break\n",
            "19   313.504747       focused_break\n",
            "20    10.893395       focused_break\n",
            "21    11.760206       focused_break\n",
            "22    12.072930       focused_break\n",
            "23    10.208220       focused_break\n",
            "24    16.338332       focused_break\n",
            "25    12.421392       focused_break\n",
            "26    11.414194       focused_break\n",
            "27     9.183993       focused_break\n",
            "28    39.676222       focused_break\n",
            "29    22.510040       focused_break\n",
            "30    24.764415       focused_break\n",
            "31     8.626261       focused_break\n",
            "32    17.419280       focused_break\n",
            "33    31.631803       focused_break\n",
            "34    18.620100       focused_break\n",
            "35    17.259547       focused_break\n",
            "36    12.207150       focused_break\n",
            "37    62.027934       focused_break\n",
            "38    10.091517       focused_break\n",
            "39   165.266346       focused_break\n",
            "40     9.191872       focused_break\n",
            "41   112.800006       focused_break\n",
            "42    93.773002       focused_break\n",
            "43    49.518987       focused_break\n",
            "44     6.879723    distracted_break\n",
            "45   196.939621    distracted_break\n",
            "46    21.114402    distracted_break\n",
            "47    40.895021    distracted_break\n",
            "48    84.871122    distracted_break\n"
          ]
        }
      ]
    },
    {
      "cell_type": "code",
      "source": [
        "\n",
        "# Filter the data for the two categories\n",
        "filtered_data = merged_df[merged_df['origin'].isin(['distracted_reading', 'focused_reading'])]\n",
        "\n",
        "# Box plot\n",
        "sns.boxplot(x='origin', y='duration', data=filtered_data)\n",
        "\n",
        "# Set the x-axis label\n",
        "plt.xlabel('Origin')\n",
        "\n",
        "# Set the y-axis label\n",
        "plt.ylabel('Duration')\n",
        "\n",
        "# Set the title\n",
        "plt.title('Box Plot of Durations by Origin')\n",
        "\n",
        "# Display the plot\n",
        "plt.show()\n",
        "\n"
      ],
      "metadata": {
        "colab": {
          "base_uri": "https://localhost:8080/",
          "height": 472
        },
        "id": "NeF8o9GewfMP",
        "outputId": "9a1b2083-28ad-4a5e-84cf-b178bb7d90b9"
      },
      "execution_count": null,
      "outputs": [
        {
          "output_type": "display_data",
          "data": {
            "text/plain": [
              "<Figure size 640x480 with 1 Axes>"
            ],
            "image/png": "[encoded data removed]"
          },
          "metadata": {}
        }
      ]
    },
    {
      "cell_type": "code",
      "source": [
        "\n",
        "\n",
        "# Filter the data for the two categories\n",
        "filtered_data_2 = merged_df[merged_df['origin'].isin(['distracted_break', 'focused_break'])]\n",
        "\n",
        "# Box plot\n",
        "sns.boxplot(x='origin', y='duration', data=filtered_data_2)\n",
        "\n",
        "# Set the x-axis label\n",
        "plt.xlabel('Origin')\n",
        "\n",
        "# Set the y-axis label\n",
        "plt.ylabel('Duration')\n",
        "\n",
        "# Set the title\n",
        "plt.title('Box Plot of Durations by Origin')\n",
        "\n",
        "# Display the plot\n",
        "plt.show()\n"
      ],
      "metadata": {
        "colab": {
          "base_uri": "https://localhost:8080/",
          "height": 472
        },
        "id": "T9Oq8VBXyBag",
        "outputId": "5fcd1a93-e49f-4e85-ed98-b73754e5a649"
      },
      "execution_count": null,
      "outputs": [
        {
          "output_type": "display_data",
          "data": {
            "text/plain": [
              "<Figure size 640x480 with 1 Axes>"
            ],
            "image/png": "[encoded data removed]"
          },
          "metadata": {}
        }
      ]
    },
    {
      "cell_type": "markdown",
      "source": [
        "#Comparison Analysis"
      ],
      "metadata": {
        "id": "oTcnF8yR0mZt"
      }
    },
    {
      "cell_type": "markdown",
      "source": [
        "T-tests on reading times: T-stat = 3, p-val = 0.007\n",
        "* Significant difference, unlikely due to chance\n",
        "\n",
        "T-test on break times: T-stat = 0.82, p-val = 0.42\n",
        "* null hypothesis stands, likely due to chance\n",
        "\n",
        "T-test on quiz scores: T-stat = 0.32, p-val = 0.76\n",
        "* null hypothesis stands, likely due to chance"
      ],
      "metadata": {
        "id": "bEMjF1ldu0ic"
      }
    },
    {
      "cell_type": "code",
      "source": [
        "#T-test on average reading times\n",
        "\n",
        "from scipy.stats import ttest_ind\n",
        "\n",
        "# Filter the DataFrame based on origin\n",
        "distracted = merged_df[merged_df['origin'] == 'distracted_reading']['duration']\n",
        "undistracted = merged_df[merged_df['origin'] == 'focused_reading']['duration']\n",
        "\n",
        "# Perform t-test\n",
        "t_statistic, p_value = ttest_ind(distracted, undistracted)\n",
        "\n",
        "print(\"T-statistic:\", t_statistic)\n",
        "print(\"P-value:\", p_value)"
      ],
      "metadata": {
        "colab": {
          "base_uri": "https://localhost:8080/"
        },
        "id": "-o_-4weCrAtZ",
        "outputId": "899548cb-bcc1-40a6-bc0f-cfcda3b23a9e"
      },
      "execution_count": null,
      "outputs": [
        {
          "output_type": "stream",
          "name": "stdout",
          "text": [
            "T-statistic: 3.090187374852886\n",
            "P-value: 0.00702272787776657\n"
          ]
        }
      ]
    },
    {
      "cell_type": "code",
      "source": [
        "#T-test on average break times\n",
        "\n",
        "# Filter the DataFrame based on origin\n",
        "distracted = merged_df[merged_df['origin'] == 'distracted_break']['duration']\n",
        "undistracted = merged_df[merged_df['origin'] == 'focused_break']['duration']\n",
        "\n",
        "# Perform t-test\n",
        "t_statistic, p_value = ttest_ind(distracted, undistracted)\n",
        "\n",
        "print(\"T-statistic:\", t_statistic)\n",
        "print(\"P-value:\", p_value)"
      ],
      "metadata": {
        "colab": {
          "base_uri": "https://localhost:8080/"
        },
        "id": "BdpGu9sDrN0i",
        "outputId": "f73c2f5e-4b11-429b-8141-f68bde8f876b"
      },
      "execution_count": null,
      "outputs": [
        {
          "output_type": "stream",
          "name": "stdout",
          "text": [
            "T-statistic: 0.8225356958519947\n",
            "P-value: 0.41748435958251706\n"
          ]
        }
      ]
    },
    {
      "cell_type": "code",
      "source": [
        "#T-test on quiz scores\n",
        "\n",
        "# Filter the DataFrame based on origin\n",
        "distracted = merged_scores[merged_scores['origin'] == 'distracted']['score']\n",
        "undistracted = merged_scores[merged_scores['origin'] == 'focused']['score']\n",
        "\n",
        "# Perform t-test\n",
        "t_statistic, p_value = ttest_ind(distracted, undistracted)\n",
        "\n",
        "print(\"T-statistic:\", t_statistic)\n",
        "print(\"P-value:\", p_value)"
      ],
      "metadata": {
        "colab": {
          "base_uri": "https://localhost:8080/"
        },
        "id": "9WpL4XxErhrr",
        "outputId": "4f3d2cf1-ee60-4d79-aed5-b61d0b3ee8b0"
      },
      "execution_count": null,
      "outputs": [
        {
          "output_type": "stream",
          "name": "stdout",
          "text": [
            "T-statistic: 0.3224560708246787\n",
            "P-value: 0.752655921971076\n"
          ]
        }
      ]
    },
    {
      "cell_type": "markdown",
      "source": [
        "#Conclusion : Findings\n",
        "\n",
        "1. Reading Time and Breaks:\n",
        "\n",
        "  * Reading with the subway-surfer method resulted in a 33% increase in reading time and a 68% decrease in break time compared to undistracted reading.\n",
        "  * Statistical analysis (t-test) indicated a significant difference in reading times (t-stat: 3, p-value: 0.007) but no significant difference in break times (t-stat: 0.8, p-value: 0.4).\n",
        "\n",
        "2. Test Scores:\n",
        "\n",
        "  * Test scores with the subway-surfer method were higher and more consistent than with undistracted reading.\n",
        "  * Subway-surfer method: Mean score of 72.5 with a standard deviation of 7.9.\n",
        "  * Undistracted method: Mean score of 69.69 with a standard deviation of 23.1.\n",
        "  * Correlation analysis showed no significant difference in test scores (t-stat: 0.32, p-value: 0.75).\n",
        "\n",
        "3. Pages Read:\n",
        "\n",
        "  * While reading undistracted, I read 30 pages, compared to 74 pages when reading distracted.\n",
        "  * It's important to note that the pages read were not solely blocks of text, but specific sections were selected to compare the text-density of each trial (Undistracted: pgs. 224-254, Distracted: pgs. 254-329, from 'Python Data Science Handbook' by Jake VanderPlas).\n",
        "\n",
        "These findings demonstrate the impact of the subway-surfer method on reading time, breaks, test scores, and the difference in pages read. While the method resulted in increased reading time and reduced break time, test scores showed no significant difference. "
      ],
      "metadata": {
        "id": "BASc0EJhOVp6"
      }
    },
    {
      "cell_type": "markdown",
      "source": [
        "# Conclusion: Insights & Implications\n",
        "\n",
        "**Insights**\n",
        "\n",
        "1. Increased Reading Time: The subway-surfer method exhibited significantly longer reading durations compared to undistracted reading (t-stat: 3, p-value: 0.007), indicating its potential to enhance reading duration.\n",
        "2. Break-Time Correlation: Correlation analysis showed no significant difference in break times between the methods, suggesting similar effects on break durations.\n",
        "3. Test Score Performance: The subway-surfer method resulted in higher and more consistent test scores than reading undistracted. However, further data is needed to validate the correlation.\n",
        "\n",
        "**Implications**\n",
        "\n",
        "1. Improved Reading Performance: Implementing the subway-surfer method can potentially enhance reading performance, allowing for the coverage of more material and achieving higher test scores.\n",
        "2. Distraction Management: The trial results indicate that the subway-surfer method requires significantly less cumulative break time. Additionally, the duration of breaks did not significantly differ between the methods, suggesting that readers can take breaks as needed without altering their duration.\n",
        "\n",
        "These insights and implications highlight the advantages of the subway-surfer method in terms of reading duration, test score performance, and break management, offering potential benefits for individuals seeking to optimize their reading experience."
      ],
      "metadata": {
        "id": "WIXmA_HRSxKA"
      }
    },
    {
      "cell_type": "markdown",
      "source": [
        "# Recommendations and Future Steps\n",
        "\n",
        "<b>Recommendations</b>\n",
        "\n",
        "* Subway-Surfer Method: For readings lasting approximately an hour, consider using the Subway-Surfer method, which showed improved retention of material compared to undistracted reading within this duration.\n",
        "* TikTok-inspired Approach: If feasible, experiment with replicating the TikTok method by overlaying snippets of text on gameplay footage and utilizing text-to-speech technology to read the text as it appears on the screen.\n",
        "\n",
        "<b>Future Steps</b>\n",
        "\n",
        "* Explore Different Distraction Types: Extend the analysis to include other types of distractions such as music or fidgeting in combination with visual distractions. This may provide further insights into their impact on reading performance.\n",
        "* Long-Term Performance Assessment: Expand the analysis to longer reading sessions, beyond the one-hour trials conducted in this study. Assessing performance over an extended duration will provide valuable information for individuals who engage in lengthier reading sessions.\n",
        "\n",
        "These recommendations and future steps aim to build upon the findings of this analysis and offer potential avenues for enhancing reading performance and understanding the effects of various distractions."
      ],
      "metadata": {
        "id": "oIUOnL5WaCy2"
      }
    }
  ]
}